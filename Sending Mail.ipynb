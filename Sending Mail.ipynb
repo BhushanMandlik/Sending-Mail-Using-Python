{
 "cells": [
  {
   "cell_type": "markdown",
   "metadata": {},
   "source": [
    "# Sending email from Python to Friends and Family"
   ]
  },
  {
   "cell_type": "code",
   "execution_count": 3,
   "metadata": {},
   "outputs": [
    {
     "name": "stdout",
     "output_type": "stream",
     "text": [
      "Enter Receiver's Email Id:bhushanmandlik2001@gmail.com\n",
      "Mail Successfully send to bhushanmandlik2001@gmail.com\n"
     ]
    },
    {
     "data": {
      "text/plain": [
       "(221, b'2.0.0 closing connection b12sm17538746pgr.9 - gsmtp')"
      ]
     },
     "execution_count": 3,
     "metadata": {},
     "output_type": "execute_result"
    }
   ],
   "source": [
    "import smtplib\n",
    "\n",
    "server = smtplib.SMTP_SSL(\"smtp.gmail.com\",465)\n",
    "server.login(\"bhushanmandlik2001@gmail.com\",\"Bhushan@8411\")\n",
    "receiver = input(\"Enter Receiver's Email Id:\")\n",
    "subject = \"Hello From Bhushan\"\n",
    "body = \"Good Morning\\nGood Afternoon\\nGood Night\"\n",
    "message = \"Subject:{}\\n\\n{}\".format(subject,body)\n",
    "server.sendmail(\"bhushanmandlik2001@gmail.com\", receiver, message)\n",
    "print(\"Mail Successfully send to\",receiver)\n",
    "server.quit()"
   ]
  }
 ],
 "metadata": {
  "kernelspec": {
   "display_name": "Python 3",
   "language": "python",
   "name": "python3"
  },
  "language_info": {
   "codemirror_mode": {
    "name": "ipython",
    "version": 3
   },
   "file_extension": ".py",
   "mimetype": "text/x-python",
   "name": "python",
   "nbconvert_exporter": "python",
   "pygments_lexer": "ipython3",
   "version": "3.7.4"
  }
 },
 "nbformat": 4,
 "nbformat_minor": 4
}
